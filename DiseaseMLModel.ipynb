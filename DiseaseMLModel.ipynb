{
 "cells": [
  {
   "cell_type": "markdown",
   "metadata": {},
   "source": [
    "### Activating Virtual Environment\n",
    "source venv/bin/activate\n",
    "\n",
    "### Deactive Virtual Environment\n",
    "deactivate"
   ]
  },
  {
   "cell_type": "code",
   "execution_count": 7,
   "metadata": {},
   "outputs": [],
   "source": [
    "#Importing Libraries\n",
    "\n",
    "import pandas as pd\n",
    "import numpy as np\n",
    "import matplotlib.pyplot as plt\n",
    "import seaborn as sns\n",
    "from sklearn.decomposition import PCA\n",
    "from sklearn.impute import KNNImputer\n",
    "from sklearn.model_selection import train_test_split\n",
    "from sklearn.linear_model import LogisticRegression\n",
    "from sklearn.preprocessing import StandardScaler\n",
    "from sklearn.ensemble import GradientBoostingClassifier\n",
    "from sklearn.ensemble import RandomForestClassifier\n",
    "from sklearn.metrics import accuracy_score,precision_score, recall_score, roc_auc_score, classification_report\n",
    "import kagglehub \n",
    "from kagglehub import KaggleDatasetAdapter\n"
   ]
  },
  {
   "cell_type": "code",
   "execution_count": 11,
   "metadata": {},
   "outputs": [
    {
     "name": "stderr",
     "output_type": "stream",
     "text": [
      "/var/folders/st/rn530dbj3yjblz3l6_6qpf8c0000gn/T/ipykernel_42703/1356232844.py:6: DeprecationWarning: load_dataset is deprecated and will be removed in future version.\n",
      "  train_df = kagglehub.load_dataset(\n",
      "/var/folders/st/rn530dbj3yjblz3l6_6qpf8c0000gn/T/ipykernel_42703/1356232844.py:13: DeprecationWarning: load_dataset is deprecated and will be removed in future version.\n",
      "  test_df = kagglehub.load_dataset(\n"
     ]
    }
   ],
   "source": [
    "# Set the paths to the training and testing files\n",
    "train_file_path = \"Blood_samples_dataset_balanced_2(f).csv\"\n",
    "test_file_path = \"blood_samples_dataset_test.csv\"\n",
    "\n",
    "# Load the training dataset\n",
    "train_df = kagglehub.load_dataset(\n",
    "    KaggleDatasetAdapter.PANDAS,\n",
    "    \"ehababoelnaga/multiple-disease-prediction\",\n",
    "    train_file_path,\n",
    ")\n",
    "\n",
    "# Load the testing dataset\n",
    "test_df = kagglehub.load_dataset(\n",
    "    KaggleDatasetAdapter.PANDAS,\n",
    "    \"ehababoelnaga/multiple-disease-prediction\",\n",
    "    test_file_path,\n",
    ")"
   ]
  }
 ],
 "metadata": {
  "kernelspec": {
   "display_name": "venv",
   "language": "python",
   "name": "python3"
  },
  "language_info": {
   "codemirror_mode": {
    "name": "ipython",
    "version": 3
   },
   "file_extension": ".py",
   "mimetype": "text/x-python",
   "name": "python",
   "nbconvert_exporter": "python",
   "pygments_lexer": "ipython3",
   "version": "3.12.7"
  }
 },
 "nbformat": 4,
 "nbformat_minor": 2
}
